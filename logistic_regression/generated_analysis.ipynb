{
 "cells": [
  {
   "cell_type": "code",
   "execution_count": 1,
   "metadata": {},
   "outputs": [],
   "source": [
    "import pandas as pd \n",
    "import matplotlib.pyplot as plt\n",
    "import matplotlib.gridspec as gridspec"
   ]
  },
  {
   "cell_type": "markdown",
   "metadata": {},
   "source": [
    "### n = 2000, m = 1000"
   ]
  },
  {
   "cell_type": "code",
   "execution_count": null,
   "metadata": {},
   "outputs": [],
   "source": [
    "# GNOM\n",
    "\n",
    "lr_0_3_file_path = \"generated/n_2000_m_1000/GNOM/lr-0.3/200/no_batching/2024-10-03-16:26:55/results.csv\"\n",
    "lr_0_2_file_path = \"generated/n_2000_m_1000/GNOM/lr-0.2/200/no_batching/2024-10-03-16:27:05/results.csv\"\n",
    "lr_0_1_file_path = \"generated/n_2000_m_1000/GNOM/lr-0.1/200/no_batching/2024-10-03-16:27:14/results.csv\"\n",
    "lr_0_01_file_path = \"generated/n_2000_m_1000/GNOM/lr-0.01/200/no_batching/2024-10-03-16:27:23/results.csv\"\n",
    "lr_0_001_file_path = \"generated/n_2000_m_1000/GNOM/lr-0.001/200/no_batching/2024-10-03-16:27:31/results.csv\"\n",
    "\n",
    "# Read CSV files\n",
    "lr_0_3 = pd.read_csv(lr_0_3_file_path)\n",
    "lr_0_2 = pd.read_csv(lr_0_2_file_path)\n",
    "lr_0_1 = pd.read_csv(lr_0_1_file_path)\n",
    "lr_0_01 = pd.read_csv(lr_0_01_file_path)\n",
    "lr_0_001 = pd.read_csv(lr_0_001_file_path)"
   ]
  },
  {
   "cell_type": "code",
   "execution_count": null,
   "metadata": {},
   "outputs": [],
   "source": [
    "# SGD\n",
    "\n",
    "lr_0_3_file_path = \"arcene/GNOM/lr-0.1/200/no_batching/2024-09-30-16:06:45/results.csv\"\n",
    "lr_0_2_file_path = \"arcene/GNOM/lr-0.01/200/no_batching/2024-09-30-16:06:32/results.csv\"\n",
    "lr_0_1_file_path = \"arcene/GNOM/lr-0.005/200/no_batching/2024-09-30-16:06:00/results.csv\"\n",
    "lr_0_01_file_path = \"arcene/GNOM/lr-0.001/200/no_batching/2024-09-30-16:05:34/results.csv\"\n",
    "lr_0_001_file_path = \"arcene/GNOM/lr-0.0001/200/no_batching/2024-09-30-16:07:01/results.csv\"\n",
    "\n",
    "# Read CSV files\n",
    "lr_0_3 = pd.read_csv(lr_0_3_file_path)\n",
    "lr_0_2 = pd.read_csv(lr_0_2_file_path)\n",
    "lr_0_1 = pd.read_csv(lr_0_1_file_path)\n",
    "lr_0_01 = pd.read_csv(lr_0_01_file_path)\n",
    "lr_0_001 = pd.read_csv(lr_0_001_file_path)"
   ]
  },
  {
   "cell_type": "markdown",
   "metadata": {},
   "source": [
    "### n = 2000, m = 4000"
   ]
  },
  {
   "cell_type": "code",
   "execution_count": null,
   "metadata": {},
   "outputs": [],
   "source": [
    "# GNOM\n",
    "\n",
    "lr_0_3_file_path = \"arcene/GNOM/lr-0.1/200/no_batching/2024-09-30-16:06:45/results.csv\"\n",
    "lr_0_2_file_path = \"arcene/GNOM/lr-0.01/200/no_batching/2024-09-30-16:06:32/results.csv\"\n",
    "lr_0_1_file_path = \"arcene/GNOM/lr-0.005/200/no_batching/2024-09-30-16:06:00/results.csv\"\n",
    "lr_0_01_file_path = \"arcene/GNOM/lr-0.001/200/no_batching/2024-09-30-16:05:34/results.csv\"\n",
    "lr_0_001_file_path = \"arcene/GNOM/lr-0.0001/200/no_batching/2024-09-30-16:07:01/results.csv\"\n",
    "\n",
    "# Read CSV files\n",
    "lr_0_3 = pd.read_csv(lr_0_3_file_path)\n",
    "lr_0_2 = pd.read_csv(lr_0_2_file_path)\n",
    "lr_0_1 = pd.read_csv(lr_0_1_file_path)\n",
    "lr_0_01 = pd.read_csv(lr_0_01_file_path)\n",
    "lr_0_001 = pd.read_csv(lr_0_001_file_path)"
   ]
  },
  {
   "cell_type": "code",
   "execution_count": null,
   "metadata": {},
   "outputs": [],
   "source": [
    "# SGD\n",
    "\n",
    "lr_0_3_file_path = \"arcene/GNOM/lr-0.1/200/no_batching/2024-09-30-16:06:45/results.csv\"\n",
    "lr_0_2_file_path = \"arcene/GNOM/lr-0.01/200/no_batching/2024-09-30-16:06:32/results.csv\"\n",
    "lr_0_1_file_path = \"arcene/GNOM/lr-0.005/200/no_batching/2024-09-30-16:06:00/results.csv\"\n",
    "lr_0_01_file_path = \"arcene/GNOM/lr-0.001/200/no_batching/2024-09-30-16:05:34/results.csv\"\n",
    "lr_0_001_file_path = \"arcene/GNOM/lr-0.0001/200/no_batching/2024-09-30-16:07:01/results.csv\"\n",
    "\n",
    "# Read CSV files\n",
    "lr_0_3 = pd.read_csv(lr_0_3_file_path)\n",
    "lr_0_2 = pd.read_csv(lr_0_2_file_path)\n",
    "lr_0_1 = pd.read_csv(lr_0_1_file_path)\n",
    "lr_0_01 = pd.read_csv(lr_0_01_file_path)\n",
    "lr_0_001 = pd.read_csv(lr_0_001_file_path)"
   ]
  },
  {
   "cell_type": "markdown",
   "metadata": {},
   "source": [
    "### n = 8000, m = 1000"
   ]
  },
  {
   "cell_type": "code",
   "execution_count": null,
   "metadata": {},
   "outputs": [],
   "source": [
    "# GNOM\n",
    "\n",
    "lr_0_3_file_path = \"arcene/GNOM/lr-0.1/200/no_batching/2024-09-30-16:06:45/results.csv\"\n",
    "lr_0_2_file_path = \"arcene/GNOM/lr-0.01/200/no_batching/2024-09-30-16:06:32/results.csv\"\n",
    "lr_0_1_file_path = \"arcene/GNOM/lr-0.005/200/no_batching/2024-09-30-16:06:00/results.csv\"\n",
    "lr_0_01_file_path = \"arcene/GNOM/lr-0.001/200/no_batching/2024-09-30-16:05:34/results.csv\"\n",
    "lr_0_001_file_path = \"arcene/GNOM/lr-0.0001/200/no_batching/2024-09-30-16:07:01/results.csv\"\n",
    "\n",
    "# Read CSV files\n",
    "lr_0_3 = pd.read_csv(lr_0_3_file_path)\n",
    "lr_0_2 = pd.read_csv(lr_0_2_file_path)\n",
    "lr_0_1 = pd.read_csv(lr_0_1_file_path)\n",
    "lr_0_01 = pd.read_csv(lr_0_01_file_path)\n",
    "lr_0_001 = pd.read_csv(lr_0_001_file_path)"
   ]
  },
  {
   "cell_type": "code",
   "execution_count": null,
   "metadata": {},
   "outputs": [],
   "source": [
    "# SGD\n",
    "\n",
    "lr_0_3_file_path = \"arcene/GNOM/lr-0.1/200/no_batching/2024-09-30-16:06:45/results.csv\"\n",
    "lr_0_2_file_path = \"arcene/GNOM/lr-0.01/200/no_batching/2024-09-30-16:06:32/results.csv\"\n",
    "lr_0_1_file_path = \"arcene/GNOM/lr-0.005/200/no_batching/2024-09-30-16:06:00/results.csv\"\n",
    "lr_0_01_file_path = \"arcene/GNOM/lr-0.001/200/no_batching/2024-09-30-16:05:34/results.csv\"\n",
    "lr_0_001_file_path = \"arcene/GNOM/lr-0.0001/200/no_batching/2024-09-30-16:07:01/results.csv\"\n",
    "\n",
    "# Read CSV files\n",
    "lr_0_3 = pd.read_csv(lr_0_3_file_path)\n",
    "lr_0_2 = pd.read_csv(lr_0_2_file_path)\n",
    "lr_0_1 = pd.read_csv(lr_0_1_file_path)\n",
    "lr_0_01 = pd.read_csv(lr_0_01_file_path)\n",
    "lr_0_001 = pd.read_csv(lr_0_001_file_path)"
   ]
  },
  {
   "cell_type": "markdown",
   "metadata": {},
   "source": [
    "### n = 8000, m = 4000"
   ]
  },
  {
   "cell_type": "code",
   "execution_count": null,
   "metadata": {},
   "outputs": [],
   "source": [
    "# GNOM\n",
    "\n",
    "lr_0_3_file_path = \"arcene/GNOM/lr-0.1/200/no_batching/2024-09-30-16:06:45/results.csv\"\n",
    "lr_0_2_file_path = \"arcene/GNOM/lr-0.01/200/no_batching/2024-09-30-16:06:32/results.csv\"\n",
    "lr_0_1_file_path = \"arcene/GNOM/lr-0.005/200/no_batching/2024-09-30-16:06:00/results.csv\"\n",
    "lr_0_01_file_path = \"arcene/GNOM/lr-0.001/200/no_batching/2024-09-30-16:05:34/results.csv\"\n",
    "lr_0_001_file_path = \"arcene/GNOM/lr-0.0001/200/no_batching/2024-09-30-16:07:01/results.csv\"\n",
    "\n",
    "# Read CSV files\n",
    "lr_0_3 = pd.read_csv(lr_0_3_file_path)\n",
    "lr_0_2 = pd.read_csv(lr_0_2_file_path)\n",
    "lr_0_1 = pd.read_csv(lr_0_1_file_path)\n",
    "lr_0_01 = pd.read_csv(lr_0_01_file_path)\n",
    "lr_0_001 = pd.read_csv(lr_0_001_file_path)"
   ]
  },
  {
   "cell_type": "code",
   "execution_count": null,
   "metadata": {},
   "outputs": [],
   "source": [
    "# SGD\n",
    "\n",
    "lr_0_3_file_path = \"arcene/GNOM/lr-0.1/200/no_batching/2024-09-30-16:06:45/results.csv\"\n",
    "lr_0_2_file_path = \"arcene/GNOM/lr-0.01/200/no_batching/2024-09-30-16:06:32/results.csv\"\n",
    "lr_0_1_file_path = \"arcene/GNOM/lr-0.005/200/no_batching/2024-09-30-16:06:00/results.csv\"\n",
    "lr_0_01_file_path = \"arcene/GNOM/lr-0.001/200/no_batching/2024-09-30-16:05:34/results.csv\"\n",
    "lr_0_001_file_path = \"arcene/GNOM/lr-0.0001/200/no_batching/2024-09-30-16:07:01/results.csv\"\n",
    "\n",
    "# Read CSV files\n",
    "lr_0_3 = pd.read_csv(lr_0_3_file_path)\n",
    "lr_0_2 = pd.read_csv(lr_0_2_file_path)\n",
    "lr_0_1 = pd.read_csv(lr_0_1_file_path)\n",
    "lr_0_01 = pd.read_csv(lr_0_01_file_path)\n",
    "lr_0_001 = pd.read_csv(lr_0_001_file_path)"
   ]
  },
  {
   "cell_type": "markdown",
   "metadata": {},
   "source": [
    "### Comparison Chart"
   ]
  },
  {
   "cell_type": "code",
   "execution_count": null,
   "metadata": {},
   "outputs": [],
   "source": [
    "# Load in your dataframes\n",
    "lr_0_3 = pd.read_csv(lr_0_3_file_path)\n",
    "lr_0_2 = pd.read_csv(lr_0_2_file_path)\n",
    "lr_0_1 = pd.read_csv(lr_0_1_file_path)\n",
    "lr_0_01 = pd.read_csv(lr_0_01_file_path)\n",
    "lr_0_001 = pd.read_csv(lr_0_001_file_path)\n",
    "\n",
    "# Extract epochs from one of the DataFrames (assuming all have the same epochs)\n",
    "epochs = lr_0_3['Epoch']\n",
    "\n",
    "# Extract data for various datasets\n",
    "lr_0_3_test_loss = lr_0_3['Test Loss']\n",
    "lr_0_2_test_loss = lr_0_2['Test Loss']\n",
    "lr_0_1_test_loss = lr_0_1['Test Loss']\n",
    "lr_0_01_test_loss = lr_0_01['Test Loss']\n",
    "lr_0_001_test_loss = lr_0_001['Test Loss']\n",
    "\n",
    "lr_0_3_test_accuracy = lr_0_3['Test Accuracy']\n",
    "lr_0_2_test_accuracy = lr_0_2['Test Accuracy']\n",
    "lr_0_1_test_accuracy = lr_0_1['Test Accuracy']\n",
    "lr_0_01_test_accuracy = lr_0_01['Test Accuracy']\n",
    "lr_0_001_test_accuracy = lr_0_001['Test Accuracy']\n",
    "\n",
    "lr_0_3_training_loss = lr_0_3['Training Loss']\n",
    "lr_0_2_training_loss = lr_0_2['Training Loss']\n",
    "lr_0_1_training_loss = lr_0_1['Training Loss']\n",
    "lr_0_01_training_loss = lr_0_01['Training Loss']\n",
    "lr_0_001_training_loss = lr_0_001['Training Loss']\n",
    "\n",
    "# Calculate total training time (expanding sum) for each dataset\n",
    "lr_0_3_total_training_time = lr_0_3['Training Time (s)'].expanding().sum()\n",
    "lr_0_2_total_training_time = lr_0_2['Training Time (s)'].expanding().sum()\n",
    "lr_0_1_total_training_time = lr_0_1['Training Time (s)'].expanding().sum()\n",
    "lr_0_01_total_training_time = lr_0_01['Training Time (s)'].expanding().sum()\n",
    "lr_0_001_total_training_time = lr_0_001['Training Time (s)'].expanding().sum()\n",
    "\n",
    "# Create subplots in a 2x3 grid\n",
    "fig, axes = plt.subplots(2, 3, figsize=(18, 10))\n",
    "\n",
    "# Plot 1: Test Loss vs Epochs\n",
    "axes[0, 0].plot(epochs, lr_0_3_test_loss, label='lr=0.3', color='red')\n",
    "axes[0, 0].plot(epochs, lr_0_2_test_loss, label='lr=0.2', color='blue')\n",
    "axes[0, 0].plot(epochs, lr_0_1_test_loss, label='lr=0.1', color='green')\n",
    "axes[0, 0].plot(epochs, lr_0_01_test_loss, label='lr=0.01', color='orange')\n",
    "axes[0, 0].plot(epochs, lr_0_001_test_loss, label='lr=0.001', color='purple')\n",
    "axes[0, 0].set_xlabel('Epoch')\n",
    "axes[0, 0].set_ylabel('Test Loss (Cross-Entropy)')\n",
    "axes[0, 0].set_title('Test Loss vs Epochs')\n",
    "axes[0, 0].legend()\n",
    "\n",
    "# Plot 2: Test Accuracy vs Epochs\n",
    "axes[0, 1].plot(epochs, lr_0_3_test_accuracy, label='lr=0.3', color='red')\n",
    "axes[0, 1].plot(epochs, lr_0_2_test_accuracy, label='lr=0.2', color='blue')\n",
    "axes[0, 1].plot(epochs, lr_0_1_test_accuracy, label='lr=0.1', color='green')\n",
    "axes[0, 1].plot(epochs, lr_0_01_test_accuracy, label='lr=0.01', color='orange')\n",
    "axes[0, 1].plot(epochs, lr_0_001_test_accuracy, label='lr=0.001', color='purple')\n",
    "axes[0, 1].set_xlabel('Epoch')\n",
    "axes[0, 1].set_ylabel('Test Accuracy')\n",
    "axes[0, 1].set_title('Test Accuracy vs Epochs')\n",
    "axes[0, 1].legend()\n",
    "\n",
    "# Plot 3: Training Loss vs Epochs\n",
    "axes[0, 2].plot(epochs, lr_0_3_training_loss, label='lr=0.3', color='red')\n",
    "axes[0, 2].plot(epochs, lr_0_2_training_loss, label='lr=0.2', color='blue')\n",
    "axes[0, 2].plot(epochs, lr_0_1_training_loss, label='lr=0.1', color='green')\n",
    "axes[0, 2].plot(epochs, lr_0_01_training_loss, label='lr=0.01', color='orange')\n",
    "axes[0, 2].plot(epochs, lr_0_001_training_loss, label='lr=0.001', color='purple')\n",
    "axes[0, 2].set_xlabel('Epoch')\n",
    "axes[0, 2].set_ylabel('Training Loss (Cross-Entropy)')\n",
    "axes[0, 2].set_title('Training Loss vs Epochs')\n",
    "axes[0, 2].legend()\n",
    "\n",
    "# Plot 4: Test Loss vs Training Time\n",
    "axes[1, 0].plot(lr_0_3_total_training_time, lr_0_3_test_loss, label='lr=0.3', color='red')\n",
    "axes[1, 0].plot(lr_0_2_total_training_time, lr_0_2_test_loss, label='lr=0.2', color='blue')\n",
    "axes[1, 0].plot(lr_0_1_total_training_time, lr_0_1_test_loss, label='lr=0.1', color='green')\n",
    "axes[1, 0].plot(lr_0_01_total_training_time, lr_0_01_test_loss, label='lr=0.01', color='orange')\n",
    "axes[1, 0].plot(lr_0_001_total_training_time, lr_0_001_test_loss, label='lr=0.001', color='purple')\n",
    "axes[1, 0].set_xlabel('Training Time (s)')\n",
    "axes[1, 0].set_ylabel('Test Loss (Cross-Entropy)')\n",
    "axes[1, 0].set_title('Test Loss vs Training Time')\n",
    "axes[1, 0].legend()\n",
    "\n",
    "# Plot 5: Test Accuracy vs Training Time\n",
    "axes[1, 1].plot(lr_0_3_total_training_time, lr_0_3_test_accuracy, label='lr=0.3', color='red')\n",
    "axes[1, 1].plot(lr_0_2_total_training_time, lr_0_2_test_accuracy, label='lr=0.2', color='blue')\n",
    "axes[1, 1].plot(lr_0_1_total_training_time, lr_0_1_test_accuracy, label='lr=0.1', color='green')\n",
    "axes[1, 1].plot(lr_0_01_total_training_time, lr_0_01_test_accuracy, label='lr=0.01', color='orange')\n",
    "axes[1, 1].plot(lr_0_001_total_training_time, lr_0_001_test_accuracy, label='lr=0.001', color='purple')\n",
    "axes[1, 1].set_xlabel('Training Time (s)')\n",
    "axes[1, 1].set_ylabel('Test Accuracy')\n",
    "axes[1, 1].set_title('Test Accuracy vs Training Time')\n",
    "axes[1, 1].legend()\n",
    "\n",
    "# Plot 6: Training Loss vs Training Time\n",
    "axes[1, 2].plot(lr_0_3_total_training_time, lr_0_3_training_loss, label='lr=0.3', color='red')\n",
    "axes[1, 2].plot(lr_0_2_total_training_time, lr_0_2_training_loss, label='lr=0.2', color='blue')\n",
    "axes[1, 2].plot(lr_0_1_total_training_time, lr_0_1_training_loss, label='lr=0.1', color='green')\n",
    "axes[1, 2].plot(lr_0_01_total_training_time, lr_0_01_training_loss, label='lr=0.01', color='orange')\n",
    "axes[1, 2].plot(lr_0_001_total_training_time, lr_0_001_training_loss, label='lr=0.001', color='purple')\n",
    "axes[1, 2].set_xlabel('Training Time (s)')\n",
    "axes[1, 2].set_ylabel('Training Loss (Cross-Entropy)')\n",
    "axes[1, 2].set_title('Training Loss vs Training Time')\n",
    "axes[1, 2].legend()\n",
    "\n",
    "# Adjust the layout\n",
    "plt.tight_layout()\n",
    "\n",
    "# Show the plot\n",
    "plt.show()\n",
    "\n",
    "\n"
   ]
  }
 ],
 "metadata": {
  "interpreter": {
   "hash": "54ee8ad09054042b765fe01c0487e6cc18abb01d522b7848423350aaa59332bc"
  },
  "kernelspec": {
   "display_name": "Python 3.11.5 64-bit ('gam')",
   "language": "python",
   "name": "python3"
  },
  "language_info": {
   "codemirror_mode": {
    "name": "ipython",
    "version": 3
   },
   "file_extension": ".py",
   "mimetype": "text/x-python",
   "name": "python",
   "nbconvert_exporter": "python",
   "pygments_lexer": "ipython3",
   "version": "3.11.5"
  },
  "orig_nbformat": 4
 },
 "nbformat": 4,
 "nbformat_minor": 2
}
