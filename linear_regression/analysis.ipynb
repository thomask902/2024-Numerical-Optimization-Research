{
 "cells": [
  {
   "cell_type": "markdown",
   "metadata": {},
   "source": [
    "### GNOM Testing with Classical ML\n",
    "#### Linear Regression"
   ]
  },
  {
   "cell_type": "code",
   "execution_count": 2,
   "metadata": {},
   "outputs": [],
   "source": [
    "import pandas as pd \n",
    "import matplotlib.pyplot as plt"
   ]
  },
  {
   "cell_type": "code",
   "execution_count": 4,
   "metadata": {},
   "outputs": [],
   "source": [
    "GD_file_path = \"wine/GD/lr-0.01/2024-09-18-15:31:26/results.csv\"\n",
    "\n",
    "GD_stats = pd.read_csv(GD_file_path)"
   ]
  },
  {
   "cell_type": "code",
   "execution_count": 6,
   "metadata": {},
   "outputs": [
    {
     "data": {
      "text/html": [
       "<div>\n",
       "<style scoped>\n",
       "    .dataframe tbody tr th:only-of-type {\n",
       "        vertical-align: middle;\n",
       "    }\n",
       "\n",
       "    .dataframe tbody tr th {\n",
       "        vertical-align: top;\n",
       "    }\n",
       "\n",
       "    .dataframe thead th {\n",
       "        text-align: right;\n",
       "    }\n",
       "</style>\n",
       "<table border=\"1\" class=\"dataframe\">\n",
       "  <thead>\n",
       "    <tr style=\"text-align: right;\">\n",
       "      <th></th>\n",
       "      <th>Epoch</th>\n",
       "      <th>Training Loss</th>\n",
       "      <th>Gradient Norm</th>\n",
       "      <th>Training Time (s)</th>\n",
       "      <th>Test Loss</th>\n",
       "    </tr>\n",
       "  </thead>\n",
       "  <tbody>\n",
       "    <tr>\n",
       "      <th>0</th>\n",
       "      <td>1</td>\n",
       "      <td>37.654598</td>\n",
       "      <td>12.274563</td>\n",
       "      <td>0.060410</td>\n",
       "      <td>36.635216</td>\n",
       "    </tr>\n",
       "    <tr>\n",
       "      <th>1</th>\n",
       "      <td>2</td>\n",
       "      <td>36.163563</td>\n",
       "      <td>12.020257</td>\n",
       "      <td>0.030642</td>\n",
       "      <td>35.194656</td>\n",
       "    </tr>\n",
       "    <tr>\n",
       "      <th>2</th>\n",
       "      <td>3</td>\n",
       "      <td>34.733643</td>\n",
       "      <td>11.771711</td>\n",
       "      <td>0.097909</td>\n",
       "      <td>33.813030</td>\n",
       "    </tr>\n",
       "    <tr>\n",
       "      <th>3</th>\n",
       "      <td>4</td>\n",
       "      <td>33.362217</td>\n",
       "      <td>11.528754</td>\n",
       "      <td>0.029723</td>\n",
       "      <td>32.487797</td>\n",
       "    </tr>\n",
       "    <tr>\n",
       "      <th>4</th>\n",
       "      <td>5</td>\n",
       "      <td>32.046791</td>\n",
       "      <td>11.291225</td>\n",
       "      <td>0.027786</td>\n",
       "      <td>31.216557</td>\n",
       "    </tr>\n",
       "    <tr>\n",
       "      <th>5</th>\n",
       "      <td>6</td>\n",
       "      <td>30.784992</td>\n",
       "      <td>11.058968</td>\n",
       "      <td>0.026419</td>\n",
       "      <td>29.997009</td>\n",
       "    </tr>\n",
       "    <tr>\n",
       "      <th>6</th>\n",
       "      <td>7</td>\n",
       "      <td>29.574551</td>\n",
       "      <td>10.831840</td>\n",
       "      <td>0.095134</td>\n",
       "      <td>28.826960</td>\n",
       "    </tr>\n",
       "    <tr>\n",
       "      <th>7</th>\n",
       "      <td>8</td>\n",
       "      <td>28.413298</td>\n",
       "      <td>10.609697</td>\n",
       "      <td>0.026904</td>\n",
       "      <td>27.704330</td>\n",
       "    </tr>\n",
       "    <tr>\n",
       "      <th>8</th>\n",
       "      <td>9</td>\n",
       "      <td>27.299170</td>\n",
       "      <td>10.392405</td>\n",
       "      <td>0.024675</td>\n",
       "      <td>26.627119</td>\n",
       "    </tr>\n",
       "    <tr>\n",
       "      <th>9</th>\n",
       "      <td>10</td>\n",
       "      <td>26.230200</td>\n",
       "      <td>10.179838</td>\n",
       "      <td>0.025370</td>\n",
       "      <td>25.593420</td>\n",
       "    </tr>\n",
       "  </tbody>\n",
       "</table>\n",
       "</div>"
      ],
      "text/plain": [
       "   Epoch  Training Loss  Gradient Norm  Training Time (s)  Test Loss\n",
       "0      1      37.654598      12.274563           0.060410  36.635216\n",
       "1      2      36.163563      12.020257           0.030642  35.194656\n",
       "2      3      34.733643      11.771711           0.097909  33.813030\n",
       "3      4      33.362217      11.528754           0.029723  32.487797\n",
       "4      5      32.046791      11.291225           0.027786  31.216557\n",
       "5      6      30.784992      11.058968           0.026419  29.997009\n",
       "6      7      29.574551      10.831840           0.095134  28.826960\n",
       "7      8      28.413298      10.609697           0.026904  27.704330\n",
       "8      9      27.299170      10.392405           0.024675  26.627119\n",
       "9     10      26.230200      10.179838           0.025370  25.593420"
      ]
     },
     "execution_count": 6,
     "metadata": {},
     "output_type": "execute_result"
    }
   ],
   "source": [
    "GD_stats"
   ]
  },
  {
   "cell_type": "code",
   "execution_count": 9,
   "metadata": {},
   "outputs": [
    {
     "data": {
      "image/png": "[encoded data removed]",
      "text/plain": [
       "<Figure size 640x480 with 1 Axes>"
      ]
     },
     "metadata": {},
     "output_type": "display_data"
    }
   ],
   "source": [
    "epochs = GD_stats['Epoch']\n",
    "test_loss = GD_stats['Test Loss']\n",
    "\n",
    "# Plot Test Loss over Epochs\n",
    "plt.plot(epochs, test_loss, label='GD', color='blue')\n",
    "plt.xlabel('Epoch')\n",
    "plt.ylabel('Test Loss (MSE)')\n",
    "plt.title(f'Test Loss over {len(epochs)} Epochs (Learning Rate = 0.01)')\n",
    "plt.legend()\n",
    "plt.show()"
   ]
  }
 ],
 "metadata": {
  "interpreter": {
   "hash": "54ee8ad09054042b765fe01c0487e6cc18abb01d522b7848423350aaa59332bc"
  },
  "kernelspec": {
   "display_name": "Python 3.11.5 64-bit ('gam')",
   "language": "python",
   "name": "python3"
  },
  "language_info": {
   "codemirror_mode": {
    "name": "ipython",
    "version": 3
   },
   "file_extension": ".py",
   "mimetype": "text/x-python",
   "name": "python",
   "nbconvert_exporter": "python",
   "pygments_lexer": "ipython3",
   "version": "3.11.5"
  },
  "orig_nbformat": 4
 },
 "nbformat": 4,
 "nbformat_minor": 2
}
